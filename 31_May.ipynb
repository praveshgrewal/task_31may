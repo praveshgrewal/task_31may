{
 "cells": [
  {
   "cell_type": "code",
   "execution_count": 3,
   "id": "f4e5d060-5d96-42e1-9cc4-1858b11e769a",
   "metadata": {},
   "outputs": [],
   "source": [
    "import pandas as pd"
   ]
  },
  {
   "cell_type": "code",
   "execution_count": 10,
   "id": "4a39446a-56ac-43f0-8518-9082e14b812f",
   "metadata": {},
   "outputs": [
    {
     "data": {
      "text/plain": [
       "{'product': ['Apple',\n",
       "  'OnePlus',\n",
       "  'Realme',\n",
       "  'Xiomi',\n",
       "  'blackberry',\n",
       "  'Nokia',\n",
       "  'asus',\n",
       "  'hp'],\n",
       " 'price': [7896, 2890, 3785, 7896, 3215, 5847, 6975, 9879],\n",
       " 'quantity': [5, 2, 3, 9, 6, 3, 7, 8]}"
      ]
     },
     "execution_count": 10,
     "metadata": {},
     "output_type": "execute_result"
    }
   ],
   "source": [
    "data = {\n",
    "    'product': ['Apple', 'OnePlus', 'Realme', 'Xiomi', 'blackberry', 'Nokia', 'asus', 'hp'],\n",
    "    'price': [7896, 2890, 3785,7896,3215,5847,6975,9879],\n",
    "    'quantity': [5, 2, 3, 9, 6, 3, 7, 8]\n",
    "}\n",
    "data"
   ]
  },
  {
   "cell_type": "code",
   "execution_count": 12,
   "id": "c23c4d15-232b-43f1-8731-4a265777114d",
   "metadata": {},
   "outputs": [
    {
     "name": "stdout",
     "output_type": "stream",
     "text": [
      "      product  price  quantity  total_revenue\n",
      "0       Apple   7896         5          39480\n",
      "1     OnePlus   2890         2           5780\n",
      "2      Realme   3785         3          11355\n",
      "3       Xiomi   7896         9          71064\n",
      "4  blackberry   3215         6          19290\n",
      "5       Nokia   5847         3          17541\n",
      "6        asus   6975         7          48825\n",
      "7          hp   9879         8          79032\n"
     ]
    }
   ],
   "source": [
    "df = pd.DataFrame(data)\n",
    "\n",
    "# Calculate total revenue\n",
    "df['total_revenue'] = df['price'] * df['quantity']\n",
    "\n",
    "print(df)"
   ]
  },
  {
   "cell_type": "code",
   "execution_count": 36,
   "id": "69fe7f05-16ce-41ac-a6f1-ef95e910110d",
   "metadata": {},
   "outputs": [
    {
     "name": "stdout",
     "output_type": "stream",
     "text": [
      "['jigergrewal', 'pravesh', 'studyjiger', 'google', 'microsoft']\n"
     ]
    }
   ],
   "source": [
    "emails = ['jigergrewal@gmail.com', 'pravesh@gmail.com', 'studyjiger@gmail.com','google@gmail.com', 'microsoft@gmail.com']\n",
    "\n",
    "# Extract usernames\n",
    "usernames = [email.split('@')[0] for email in emails]\n",
    "\n",
    "print(usernames)\n"
   ]
  },
  {
   "cell_type": "code",
   "execution_count": 60,
   "id": "34e1f3df-2cb6-4a3c-b53a-914ba0b2e0ef",
   "metadata": {},
   "outputs": [
    {
     "name": "stdout",
     "output_type": "stream",
     "text": [
      "[700.0, 1400.0, 2100.0, 2800.0, 3500.0, 6274.1, 5527.2, 2249.8, 5527.2, 2557.8]\n"
     ]
    }
   ],
   "source": [
    "prices = [1000, 2000, 3000, 4000, 5000, 8963, 7896, 3214, 7896, 3654]\n",
    "discount_percentage = 30  #30%\n",
    "\n",
    "# Calculate final prices after discount\n",
    "\n",
    "final_prices = [price - (price * discount_percentage / 100) for price in prices]\n",
    "print(final_prices)\n"
   ]
  },
  {
   "cell_type": "code",
   "execution_count": 44,
   "id": "9a71830c-ad1a-4432-8513-5a722b5815d8",
   "metadata": {},
   "outputs": [
    {
     "name": "stdout",
     "output_type": "stream",
     "text": [
      "Sorted by price (ascending):\n",
      "       product  price  rating\n",
      "1     OnePlus   2890       2\n",
      "4  blackberry   3215       6\n",
      "2      Realme   3785       3\n",
      "5       Nokia   5847       3\n",
      "6        asus   6975       7\n",
      "0       Apple   7896       5\n",
      "3       Xiomi   7896       9\n",
      "7          hp   9879       8\n",
      "Sorted by rating (descending):\n",
      "       product  price  rating\n",
      "3       Xiomi   7896       9\n",
      "7          hp   9879       8\n",
      "6        asus   6975       7\n",
      "4  blackberry   3215       6\n",
      "0       Apple   7896       5\n",
      "2      Realme   3785       3\n",
      "5       Nokia   5847       3\n",
      "1     OnePlus   2890       2\n"
     ]
    }
   ],
   "source": [
    "data = {\n",
    "     'product': ['Apple', 'OnePlus', 'Realme', 'Xiomi', 'blackberry', 'Nokia', 'asus', 'hp'],\n",
    "    'price': [7896, 2890, 3785,7896,3215,5847,6975,9879],\n",
    "    'rating': [5, 2, 3, 9, 6, 3, 7, 8]\n",
    "}\n",
    "\n",
    "df = pd.DataFrame(data)\n",
    "\n",
    "# Sort by price (ascending)\n",
    "sorted_by_price = df.sort_values(by='price', ascending=True)\n",
    "print(\"Sorted by price (ascending):\\n\", sorted_by_price)\n",
    "\n",
    "# Sort by rating (descending)\n",
    "sorted_by_rating = df.sort_values(by='rating', ascending=False)\n",
    "print(\"Sorted by rating (descending):\\n\", sorted_by_rating)\n"
   ]
  },
  {
   "cell_type": "code",
   "execution_count": 58,
   "id": "c5baf61d-95e0-4e50-bfd2-ed38090890ac",
   "metadata": {},
   "outputs": [
    {
     "name": "stdout",
     "output_type": "stream",
     "text": [
      "      product        price  quantity\n",
      "0       apple  7896.000000         5\n",
      "1     oneplus  6085.642857         2\n",
      "2      realme  3785.000000         3\n",
      "3       xiomi  7896.000000         9\n",
      "4  blackberry   321.500000         6\n",
      "5       nokia  5847.000000         3\n",
      "6        asus  6975.000000         7\n",
      "7          hp  9879.000000         8\n"
     ]
    }
   ],
   "source": [
    "data = {\n",
    "      'product': ['Apple', 'OnePlus', 'Realme', 'Xiomi', 'blackberry', 'Nokia', 'asus', 'hp'],\n",
    "    'price': [7896, 'NaN', 3785,7896,'$321.5',5847,6975,9879],\n",
    "    'quantity': [5, 2, 3, 9, 6, 3, 7, 8]\n",
    "}\n",
    "\n",
    "df = pd.DataFrame(data)\n",
    "\n",
    "# Fixing inconsistent product names (lowercase all and strip whitespace)\n",
    "df['product'] = df['product'].str.lower().str.strip()\n",
    "\n",
    "# Removing currency symbols and converting to float\n",
    "df['price'] = df['price'].replace('[\\$,]', '', regex=True).astype(float)\n",
    "\n",
    "# Filling missing values with the mean price\n",
    "df['price'].fillna(df['price'].mean(), inplace=True)\n",
    "\n",
    "print(df)\n"
   ]
  }
 ],
 "metadata": {
  "kernelspec": {
   "display_name": "anaconda-ai-2024.04-py310",
   "language": "python",
   "name": "conda-env-anaconda-ai-2024.04-py310-py"
  },
  "language_info": {
   "codemirror_mode": {
    "name": "ipython",
    "version": 3
   },
   "file_extension": ".py",
   "mimetype": "text/x-python",
   "name": "python",
   "nbconvert_exporter": "python",
   "pygments_lexer": "ipython3",
   "version": "3.10.13"
  }
 },
 "nbformat": 4,
 "nbformat_minor": 5
}
